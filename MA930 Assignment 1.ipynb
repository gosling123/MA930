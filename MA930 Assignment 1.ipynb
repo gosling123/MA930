{
 "cells": [
  {
   "cell_type": "code",
   "execution_count": 1,
   "metadata": {},
   "outputs": [],
   "source": [
    "# import libraries\n",
    "import numpy as np\n",
    "import matplotlib.pyplot as plt\n",
    "import sys\n",
    "from scipy.special import gamma\n",
    "\n",
    "# plotting parameters\n",
    "%matplotlib inline\n",
    "plt.rcParams[\"figure.figsize\"] = (8,5)\n",
    "plt.rcParams[\"figure.autolayout\"] = True\n",
    "plt.rcParams['lines.linewidth'] = 2\n",
    "plt.rcParams['axes.labelsize'] = 16\n",
    "plt.rcParams['axes.titlesize'] = 16\n",
    "plt.rcParams['xtick.labelsize'] = 14\n",
    "plt.rcParams['ytick.labelsize'] = 14\n",
    "plt.rcParams['legend.fontsize'] = 15"
   ]
  },
  {
   "cell_type": "code",
   "execution_count": 2,
   "metadata": {},
   "outputs": [],
   "source": [
    "def print_progress_bar(index, total, label):\n",
    "    \"\"\"\n",
    "    prints progress bar for loops.\n",
    "\n",
    "    :param index : current index of loop\n",
    "    :param total : total number of indicies to loop over\n",
    "    :param label : print statement next to progress bar\n",
    "\n",
    "    \"\"\"\n",
    "    n_bar = 20  # Progress bar width\n",
    "    progress = index / total\n",
    "    sys.stdout.write('\\r')\n",
    "    sys.stdout.write(f\"[{'=' * int(n_bar * progress):{n_bar}s}] {int(100 * progress)}%  {label}\")\n",
    "    sys.stdout.flush()"
   ]
  },
  {
   "cell_type": "markdown",
   "metadata": {},
   "source": [
    "# Question 1"
   ]
  },
  {
   "cell_type": "markdown",
   "metadata": {},
   "source": [
    "### Answer\n",
    "\n",
    "$$\n",
    "\\small\n",
    "P(A \\cap B \\cap C) = P(A | B \\cap C)P(B \\cap C)\n",
    "$$\n",
    "\n",
    "Using Bayes rule:\n",
    "\n",
    "$$\n",
    "\\small\n",
    "P(B \\cap C) = P(B|C)P(C)\n",
    "$$\n",
    "Therefore:\n",
    "$$\n",
    "\\small\n",
    "P(A \\cap B \\cap C) = P(A | B \\cap C)P(B|C)P(C)\n",
    "$$\n",
    "\n",
    "#### For n variables\n",
    "\n",
    "\n",
    "$$\n",
    "\\small\n",
    "P(A_1 \\cap A_2 ... \\cap A_n) = P(A_1|A_2 \\cap A_3 ... \\cap A_n) P(A_2 \\cap A_3 ... \\cap A_n)\n",
    "$$\n",
    "\n",
    "$$\n",
    "\\small\n",
    "= P(A_1|A_2 \\cap A_3 ... \\cap A_n) P(A_2|A_3 \\cap A_4 ... \\cap A_n)P(A_3 \\cap A_4 ... \\cap A_n)\n",
    "$$\n",
    "\n",
    "$$\n",
    "\\small\n",
    "= P(A_1|A_2 \\cap A_3 ... \\cap A_n) P(A_2|A_3 \\cap A_4 ... \\cap A_n) ... P(A_{n-2}|A_{n-1} \\cap A_n)P(A_{n-1}|A_n)P(A_n)\n",
    "$$\n",
    "\n",
    "Therefore:\n",
    "$$\n",
    "\\small\n",
    "P(A_1 \\cap A_2 ... \\cap A_n) = \\prod_{k-1}^{n}P(A_k| \\cap_{i=1}^{k-1}A_{i})\n",
    "$$\n"
   ]
  },
  {
   "cell_type": "markdown",
   "metadata": {},
   "source": [
    "# Question 2 \n",
    "\n",
    "### Answer\n",
    "\n",
    "For a given probability-generating function (PGF), the distribution of $X$ can be found using the rule:\n",
    "\n",
    "$$\n",
    "\\small\n",
    "G(z) = P(0) + P(1)z + P(2)z^2 + ...\n",
    "$$\n",
    "\n",
    "\n",
    "Thus comparing to a Taylor expansion:\n",
    "\n",
    "\n",
    "$$\n",
    "\\small\n",
    "G(z) = G(0) + \\frac{1}{1!}\\frac{dG}{dz}\\bigg|_{z=0}z + \\frac{1}{2!}\\frac{d^2G}{dz^2}\\bigg|_{z=0}z^2 + ...\n",
    "$$\n",
    "\n",
    "\n",
    "then\n",
    "\n",
    "\n",
    "$$\n",
    "\\small\n",
    "P(X = n) = \\frac{1}{n!}\\frac{d^nG}{dz^n}\\bigg|_{z=0}\n",
    "$$\n",
    "\n",
    "\n",
    "For $G(z) = \\frac{z}{5}\\left(2 + 3z^2\\right)$\n",
    "\n",
    "\n",
    "$$\n",
    "\\small\n",
    "P(X = 0) = G(0) = 0\n",
    "$$\n",
    "\n",
    "$$\n",
    "\\,\\,\n",
    "$$\n",
    "\n",
    "$$\n",
    "\\small\n",
    "P(X = 1) = \\frac{1}{1!}\\frac{dG}{dz}\\bigg|_{z=0} = \\left[\\frac{2}{5} + \\frac{9}{5}z^2\\right]_{z=0} = \\frac{2}{5}\n",
    "$$\n",
    "\n",
    "$$\n",
    "\\,\\,\n",
    "$$\n",
    "\n",
    "$$\n",
    "\\small\n",
    "P(X = 2) = \\frac{1}{2!}\\frac{d^2G}{dz^2}\\bigg|_{z=0} = \\frac{1}{2!}\\left(\\frac{d}{dz}\\left(\\frac{dG}{dz}\\right)\\right)\\bigg|_{z=0} = \n",
    "\\frac{1}{2!}\\left(\\frac{d}{dz} \\, P(X = 1) \\right) \\bigg|_{z=0}\n",
    "$$\n",
    "\n",
    "$$\n",
    "\\,\\,\n",
    "$$\n",
    "\n",
    "$$\n",
    "\\small\n",
    "P(X = 2) = \\left[\\frac{1}{2}\\left(\\frac{18}{5} z\\right)\\right]_{z=0} = 0\n",
    "$$\n",
    "\n",
    "$$\n",
    "\\,\\,\n",
    "$$\n",
    "\n",
    "$$\n",
    "\\small\n",
    "P(X = 3) = \\frac{1}{3!}\\frac{d^3G}{dz^3}\\bigg|_{z=0} = \\frac{1}{3!}\\left(\\frac{d}{dz}\\left(\\frac{d^2G}{dz^2}\\right)\\right)\\bigg|_{z=0} = \n",
    "\\frac{1}{3!}\\left(\\frac{d}{dz} 2! \\, P(X = 2)\\right) \\bigg|_{z=0}\n",
    "$$\n",
    "\n",
    "$$\n",
    "\\,\\,\n",
    "$$\n",
    "\n",
    "$$\n",
    "\\small\n",
    "P(X = 3) = \\left[\\frac{1}{6}\\left(\\frac{18}{5} \\right)\\right]_{z=0} = \\frac{3}{5}\n",
    "$$\n",
    "\n",
    "$$\n",
    "\\,\\,\n",
    "$$\n",
    "\n",
    "Then all derivatives from here will equal zero, thus:\n",
    "\n",
    "$$\n",
    "\\small\n",
    "P(X = k) = 0 \\, \\text{for} \\, k\\geq 4\n",
    "$$"
   ]
  },
  {
   "cell_type": "code",
   "execution_count": 3,
   "metadata": {},
   "outputs": [
    {
     "data": {
      "image/png": "[encoded data removed]",
      "text/plain": [
       "<Figure size 576x360 with 1 Axes>"
      ]
     },
     "metadata": {
      "needs_background": "light"
     },
     "output_type": "display_data"
    }
   ],
   "source": [
    "# plot the found P(X = x) from G(z)\n",
    "plt.bar([0, 1, 2, 3, 4], [0, 0.4, 0, 0.6, 0.0])\n",
    "plt.xlabel(r'$x$')\n",
    "plt.ylabel(r'$P(X = x)$')\n",
    "plt.show()"
   ]
  },
  {
   "cell_type": "markdown",
   "metadata": {},
   "source": [
    "# Question 3\n",
    "\n",
    "### Answer\n",
    "\n",
    "### Part i) Sum of independent normally distributed random numbers\n",
    "\n",
    "$$\n",
    "X_1 \\sim \\mathcal{N}(\\mu_1, \\sigma^2_{1})\n",
    "$$\n",
    "$$\n",
    "X_2 \\sim \\mathcal{N}(\\mu_2, \\sigma^2_{2})\n",
    "$$\n",
    "$$\n",
    "...\n",
    "$$\n",
    "$$\n",
    "X_{n-1} \\sim \\mathcal{N}(\\mu_{n-1}, \\sigma^2_{n-1})\n",
    "$$\n",
    "$$\n",
    "X_{n} \\sim \\mathcal{N}(\\mu_{n}, \\sigma^2_{n})\n",
    "$$\n",
    "\n",
    "$$\n",
    "Z = \\sum_{i=1}^{n} X_i\n",
    "$$\n",
    "\n",
    "$$\n",
    "\\phi_{Z}(t) = \\mathrm{E}[e^{itZ}] = \\mathrm{E}[e^{it \\sum_{i=1}^{n} X_{i}}] = \\mathrm{E}[e^{itX_{1}}e^{itX_{2}} ... e^{itX_{n-1}}e^{itX_{n}}] = \\mathrm{E}[e^{itX_{1}}]\\mathrm{E}[e^{itX_{2}}] ... \\mathrm{E}[e^{itX_{n-1}}]\\mathrm{E}[e^{itX_{n}}]\n",
    "$$\n",
    "\n",
    "i.e. a product of Normal distribution characteristic functions. Characteristic function for a normal distribution $\\mathcal{N}(\\mu, \\sigma^2)$\n",
    "\n",
    "$$\n",
    "\\phi_{normal}(t) = exp\\left[{it\\mu - \\frac{\\sigma^2t^2}{2}}\\right]\n",
    "$$\n",
    "\n",
    "Thus, \n",
    "\n",
    "$$\n",
    "\\phi_Z(t) = exp\\left[{it\\mu_1 - \\frac{\\sigma_1^2t^2}{2}}\\right] \\cdot exp\\left[{it\\mu_2 - \\frac{\\sigma_2^2t^2}{2}}\\right] ... exp\\left[{it\\mu_{n-1} - \\frac{\\sigma_{n-1}^2t^2}{2}}\\right] \\cdot exp\\left[{it\\mu_n - \\frac{\\sigma_n^2t^2}{2}}\\right] = exp\\left[it\\sum_{i=1}^{n}{\\mu_i} - \\frac{t^2}{2}\\sum_{i=1}^{n}\\sigma^2_{i}\\right]\n",
    "$$\n",
    "\n",
    "Defining $\\mu_Z = \\sum_{i=1}^{n}{\\mu_i}$, $\\sigma^2_Z = \\sum_{i=1}^{n}{\\sigma^2_i}$\n",
    "\n",
    "Then,\n",
    "$$\n",
    "\\phi_Z(t) = exp\\left[{it\\mu_{Z} - \\frac{\\sigma^2_{Z}t^2}{2}}\\right]\n",
    "$$\n",
    "\n",
    "Thus,\n",
    "\n",
    "$$\n",
    "Z \\sim \\mathcal{N}(\\mu_Z, \\sigma^2_{Z}) = \\mathcal{N}\\left(\\sum_{i=1}^{n}{\\mu_i}, \\sum_{i=1}^{n}{\\sigma^2_i}\\right)\n",
    "$$\n",
    "\n",
    "#### i.e. it is also a normal distribution with a mean and variance equal to the sum of the mean and variances of each sample"
   ]
  },
  {
   "cell_type": "markdown",
   "metadata": {},
   "source": [
    "### Part ii) Gamma distributed random numbers with the same scale parameter $\\theta$\n",
    "\n",
    "\n",
    "Gamma Distribution, shape paramter $k$ and scale parameter $\\theta$ \n",
    "\n",
    "$$\n",
    "f(x) = \\frac{1}{(n-1)! \\, \\theta^{k}}x^{k-1}\\exp\\left(-\\frac{x}{\\theta}\\right)\n",
    "$$\n",
    "\n",
    "Have random numbers drawn from gamma distribution with scale parameter $\\theta$ and differing shape parameter $X_{k_{i}} \\sim \\Gamma (k_{i}, \\theta)$\n",
    "\n",
    "$$\n",
    "Z = \\sum_{i=1}^{n} X_{k_i}\n",
    "$$\n",
    "\n",
    "As shown in the earlier example, for a sum of samples:\n",
    "\n",
    "$$\n",
    "\\phi_{Z}(t) = \\phi_{X_{k_1}}\\phi_{X_{k_2}} \\, ... \\, \\phi_{X_{k_{n-1}}}\\phi_{X_{k_n}}\n",
    "$$\n",
    "\n",
    "Using the characteristic function definition for the gamma distribution:\n",
    "\n",
    "$$\n",
    "\\phi_{Z}(t) = (1-it\\theta)^{-k_1} (1-it\\theta)^{-k_2} ... (1-it\\theta)^{-k_{n-1}}(1-it\\theta)^{-k_n}\n",
    "$$\n",
    "\n",
    "taking $k_Z = \\sum_{i=1}^{n}k_{i}$, then\n",
    "\n",
    "$$\n",
    "\\phi_{Z}(t) = (1-it\\theta)^{-k_Z}\n",
    "$$\n",
    "\n",
    "Thus, \n",
    "\n",
    "$$\n",
    "Z \\sim \\Gamma(k_Z, \\theta) = \\Gamma \\left(\\sum_{i=1}^{n}k_{i}, \\theta \\right)\n",
    "$$\n",
    "\n",
    "#### i.e. it is also a gamma distribution with a shape parameter equal to the sum of the shape parameters of each sample"
   ]
  },
  {
   "cell_type": "markdown",
   "metadata": {},
   "source": [
    "# Question 4\n",
    "\n",
    "### Answer"
   ]
  },
  {
   "cell_type": "markdown",
   "metadata": {},
   "source": [
    "### Part i)\n",
    "\n",
    "The formula gives the voltage change:\n",
    "\n",
    "$$\n",
    "V = \\phi_0 (0, s^2) + \\sum_{k=1}^{n} \\delta_{k}\\phi_k(a, \\sigma^2)\n",
    "$$\n",
    "\n",
    "We have n+1 cases:\n",
    "\n",
    "* K = 0 ; No vesicle is released\n",
    "* K = 1; One vesicle is released across a contact\n",
    "* K = 2; Two vesicles are released across two contacts\n",
    "* ...\n",
    "* K = n;  n vesicles n are released across n contacts\n",
    "\n",
    "So for the first case:\n",
    "\n",
    "* K = 0\n",
    "\n",
    "$$\n",
    "V = \\phi_0(0, s^2)\n",
    "$$\n",
    "\n",
    "i.e the voltage is some normal random number sampled from $\\mathcal{N}(0, s^2)$\n",
    "\n",
    "Thus, the probability of observing the voltage $V$ given that only one synaptic contact has fired $P(V|K = 1)$; is defined by the Normal distribution $\\mathcal{N}(0, s^2)$.\n",
    "\n",
    "Then continuing the trend.\n",
    "\n",
    "* K = 1\n",
    "\n",
    "$$\n",
    "V = \\phi_0(0, s^2) + \\phi_i(a, \\sigma^2) = \\phi(a, \\sigma^2 + s^2)\n",
    "$$\n",
    "\n",
    "Where $i$ represents any one of the n synaptic contacts.\n",
    "\n",
    "As we showed in the previous question that the sum of independent normally distributed random numbers is equivalent to a set of samples being taken from a normal distribution with mean $\\mu = \\sum_{i}\\mu_{i}$; and variance $\\sigma^2 = \\sum_{i}\\sigma^2_{i}$, hence the simplification.\n",
    "\n",
    "Thus, the probability of observing the voltage $V$ given that only one synaptic contact has fired $P(V|K = 1)$; is defined by the Normal distribution $\\mathcal{N}(a, \\sigma^2 + s^2)$.\n",
    "\n",
    "\n",
    "There is more that needs to be considered in this case. Yes, we will only have one synaptic contact realising a vesicle, but which one out of the n contacts? \n",
    "\n",
    "We have ${n \\choose 1}$ combinations for $i$ with success probability p. \n",
    "\n",
    "Thus the probability in this case of having just one synaptic contacts firing is:\n",
    "\n",
    "$$\n",
    "P(K = 1) = {n \\choose 1} p(1-p)^{n-1}.\n",
    "$$\n",
    "\n",
    "Then finally, the probability of getting the observed voltage for one synaptic contact firing would be \n",
    "\n",
    "$$\n",
    "P(V) = P(V|K=1)P(K=1) = \n",
    "$$\n",
    "\n",
    "Continuing this for two, we would find \n",
    "\n",
    "* K = 2\n",
    "\n",
    "$$\n",
    "V = \\phi_0(0, s^2) + \\phi_{i1}(a, \\sigma^2) +  \\phi_{i2}(a, \\sigma^2)  = \\phi(2a, 2 \\sigma^2 + s^2)\n",
    "$$\n",
    "\n",
    "This time, $i1$ and $i2$ represent two unique contacts out of the n available.\n",
    "\n",
    "Thus, the probability of observing the voltage $V$ given that only one synaptic contact has fired $P(V|K = 2)$; is defined by the Normal distribution $\\mathcal{N}(2a, 2\\sigma^2 + s^2)$.\n",
    "\n",
    "This time we can have ${n \\choose 2}$ combinations of $i1$ and $i2$ with probability of 2 contacts firing being\n",
    "\n",
    "$$\n",
    "P(K = 2) = {n \\choose 2} p^2(1-p)^{n-2}\n",
    "$$\n",
    "\n",
    "Finally, to generalise, we will consider if we have $K=k$ contacts firing.\n",
    "\n",
    "* K = k\n",
    "\n",
    "The voltage would now be measured to be \n",
    "\n",
    "$$\n",
    "V = \\phi_0(0, s^2) + \\phi_{i1}(a, \\sigma^2) +  \\phi_{i2}(a, \\sigma^2) + ... + \\phi_{i(k-1)}(a, \\sigma^2) +  \\phi_{ik}(a, \\sigma^2) = \\phi(ka, k\\sigma^2 + s^2)\n",
    "$$\n",
    "\n",
    "where this time $i1, i2, ... i(k-1), ik$ represent k unique contacts out of the n available.\n",
    "\n",
    "Thus, the probability of observing the voltage $V$ given that only one synaptic contact has fired $P(V|K = k)$; is defined by the Normal distribution $\\mathcal{N}(ka, k\\sigma^2 + s^2)$.\n",
    "\n",
    "This time we can have ${n \\choose k}$ combinations of $i1$ and $i2$ with probability of 2 contacts firing being\n",
    "\n",
    "$$\n",
    "P(K = k) = {n \\choose k} p^k(1-p)^{n-k}\n",
    "$$\n",
    "\n",
    "\n",
    "Now that a relation has been found, we can use the conditioning rule to formulate the probability of achieving a certain voltage V:\n",
    "\n",
    "$$\n",
    "P(V) = \\sum_{k=0}^{n} P(V|K = k) P(K = k)\n",
    "$$\n",
    "\n",
    "Where:\n",
    "\n",
    "* K is the number of synaptic connections firing during an event.\n",
    "\n",
    "* P(V|K = k) is defined by the normal distribution with mean $\\mu = ka^2$ and variance $\\sigma^2 = k \\sigma^2 + s^2)$\n",
    "\n",
    "* P(K = k) is defined by the binomial distribution with success probability p and number of trials n.\n",
    "\n",
    "i.e.:\n",
    "\n",
    "$$\n",
    "P(V) =  \\frac{f(V)}{\\int f(V) dV}\n",
    "$$\n",
    "\n",
    "where\n",
    "\n",
    "$$\n",
    "f(V) = {\\sum_{k=0}^{n} \\frac{1}{\\sqrt{2\\pi \\left(k\\sigma^2 + s^2\\right)}} \\exp\\left(-{\\frac{\\left(V - ka \\right)^2}{2 \\left(k\\sigma^2 + s^2\\right)}}\\right) {n \\choose k} p^{k}(1-p)^{n-k}} \n",
    "$$\n"
   ]
  },
  {
   "cell_type": "markdown",
   "metadata": {},
   "source": [
    "### Part ii)"
   ]
  },
  {
   "cell_type": "code",
   "execution_count": 4,
   "metadata": {},
   "outputs": [],
   "source": [
    "def bernoulli(p, N_trials):\n",
    "    \"\"\"\n",
    "    Simulates Bernoulli trials for a sucess probability p.\n",
    "\n",
    "    :param p : sucess probability\n",
    "    :param N_trials : number of Bernoulli trials to perform\n",
    "\n",
    "    \"\"\"\n",
    "    \n",
    "    # sucess probability\n",
    "    P_sucess = p\n",
    "    # store Bernoulli results\n",
    "    res = []\n",
    "    # perform trials\n",
    "    for i in range(N_trials):\n",
    "        # get random number between 0 and 1\n",
    "        P = np.random.rand(1)\n",
    "        if P<P_sucess:\n",
    "            res.append(1.0)\n",
    "        else:\n",
    "            res.append(0.0)\n",
    "    # output results\n",
    "    return np.array(res)\n",
    "\n",
    "\n",
    "def V_samples(N_samples, a, sig, s, n, p):\n",
    "    \n",
    "    \"\"\"\n",
    "    Collects the voltage samples using given relation.\n",
    "\n",
    "    :param N_samples : Number of samples to collect\n",
    "    :param a : given mean for random Gaussian varibale\n",
    "    :param sig : given standard deviation for random Gaussian varibale\n",
    "    :param s : given standard deviation for random Gaussian noise\n",
    "    :param n : number of neuron connections\n",
    "    :param p : sucess probability of a connection firing\n",
    "    \n",
    "    \"\"\"\n",
    "    \n",
    "    # array to store voltages\n",
    "    V = np.array([])\n",
    "    \n",
    "    # iterate for N_samples\n",
    "    for i in range(N_samples):\n",
    "        # output the progress bar every 1 percent\n",
    "        if np.mod(i, N_samples/100) == 0:\n",
    "            print_progress_bar(index=i + N_samples/100, total=N_samples , label=f'sample {int(i + N_samples/100)}/{N_samples}')\n",
    "        \n",
    "        phi_k = np.random.normal(a, sig, n) # n normal distributed (mean = a, var = sig^2)\n",
    "        delta_k = bernoulli(p, n) # n Bernoulli trials\n",
    "        volt = np.random.normal(0, s, 1) + np.sum(delta_k*phi_k) # add Gaussian noise and sum Bernoulli trail results\n",
    "        V = np.append(V, volt) # add voltage result to array\n",
    "            \n",
    "    return V\n",
    "        "
   ]
  },
  {
   "cell_type": "code",
   "execution_count": 5,
   "metadata": {},
   "outputs": [
    {
     "name": "stdout",
     "output_type": "stream",
     "text": [
      "[====================] 100%  sample 1000000/1000000"
     ]
    }
   ],
   "source": [
    "n = 10 # number of neuron connections\n",
    "p = 0.3 # sucess probability of a connection firing\n",
    "a = 0.2 # given mean for random Gaussian varibale\n",
    "sig = 0.01 # given standard deviation for random Gaussian varibale\n",
    "s = 0.05 # given standard deviation for random Gaussian noise\n",
    "\n",
    "N_samples = 1000000 # number of samples\n",
    "\n",
    "# collect samples\n",
    "V = V_samples(N_samples, a, sig, s, n, p)"
   ]
  },
  {
   "cell_type": "code",
   "execution_count": 6,
   "metadata": {},
   "outputs": [
    {
     "data": {
      "image/png": "[encoded data removed]",
      "text/plain": [
       "<Figure size 576x360 with 1 Axes>"
      ]
     },
     "metadata": {
      "needs_background": "light"
     },
     "output_type": "display_data"
    }
   ],
   "source": [
    "# find histogram\n",
    "plt.hist(V, bins = 1000, label = 'Numerical Samples', density = True)\n",
    "plt.ylabel(r'$P(V)$')\n",
    "plt.xlabel(r'$V$')\n",
    "plt.legend()\n",
    "plt.show()"
   ]
  },
  {
   "cell_type": "code",
   "execution_count": 7,
   "metadata": {},
   "outputs": [],
   "source": [
    "def normal(x, mu, sig):\n",
    "    \"\"\"\n",
    "    Defines the normal pdf at point x for mean mu and var sig^2\n",
    "    \n",
    "    :param x : point at which to evaluate\n",
    "    :param mu : mean\n",
    "    :param sig : standard deviation\n",
    "    \n",
    "    \"\"\"\n",
    "    # normalisation\n",
    "    N = 1/np.sqrt(2*np.pi * sig**2)\n",
    "    return N*np.exp(-(x-mu)**2/(2*sig**2))\n",
    "\n",
    "def factorial(n):\n",
    "    \"\"\"\n",
    "    Function wrapper for factorial\n",
    "    \n",
    "    :param n : integer to take factorial of\n",
    "    \n",
    "    \"\"\"\n",
    "    return np.math.factorial(n)\n",
    "\n",
    "def nCr(n,r):\n",
    "    \"\"\"\n",
    "    Defines the binomial coefficient\n",
    "    \n",
    "    :param n : number of trials\n",
    "    :param r : number of sucesses\n",
    "    \n",
    "    \"\"\"\n",
    "    return factorial(n) / (factorial(r) * factorial(n-r))\n",
    "\n",
    "def binomial(n, p, k):\n",
    "    \"\"\"\n",
    "    Defines the binomial distribution value for n trials\n",
    "    with k sucesses.\n",
    "    \n",
    "    :param n : number of trials\n",
    "    :param p : sucess probability\n",
    "    :param k : number of sucesses\n",
    "    \n",
    "    \"\"\"\n",
    "    \n",
    "    return nCr(n, k) * p**k * (1-p)**(n-k)\n",
    "\n",
    "\n",
    "def trapezium(x, y):\n",
    "    \"\"\"\n",
    "    Finds the integral of y = f(x) using the\n",
    "    trapezium rule.\n",
    "    \n",
    "    :param x : x points\n",
    "    :param y : y values\n",
    "    \n",
    "    \"\"\"\n",
    "    \n",
    "    # number of trapeziums\n",
    "    n = len(x)-1\n",
    "    # spacing\n",
    "    h = (x[-1]-x[0])/n\n",
    "    # trapezium rule\n",
    "    I_trap = (h/2)*(y[0] + \\\n",
    "          2 * sum(y[1:n]) + y[n])\n",
    "    return I_trap\n",
    "\n",
    "def analytic_voltage_dist(V, a, sig, s, p, n):\n",
    "    \"\"\"\n",
    "    Outputs the analytic voltage distribution discussed above.\n",
    "    \n",
    "    :param V : voltages to determine the distribution at\n",
    "    :param a : given mean for random Gaussian varibale\n",
    "    :param sig : given standard deviation for random Gaussian varibale\n",
    "    :param s : given standard deviation for random Gaussian noise\n",
    "    :param p : sucess probability of a connection firing\n",
    "    :param n : number of neuron connections\n",
    "    \n",
    "    \"\"\"\n",
    "    # start the sum at 0\n",
    "    f_V = 0\n",
    "    \n",
    "    # loop over all k values (i.e all number of sucess values)\n",
    "    for k in range(n+1):\n",
    "        \n",
    "        mean = k*a # mean\n",
    "        std = np.sqrt(k*sig**2 + s**2) # standard deviation\n",
    "        \n",
    "        Gaussian = normal(V, mu = mean, sig = std) # normal part\n",
    "        Binomial = binomial(n, p, k) # binomial part\n",
    "        \n",
    "        f_V += Gaussian * Binomial # add term to sum\n",
    "        \n",
    "    integral = trapezium(x = V, y = f_V) # find the integral to normalise distribution\n",
    "    \n",
    "    P_V = f_V/integral # normalised distribution\n",
    "    \n",
    "    return P_V\n",
    "    "
   ]
  },
  {
   "cell_type": "code",
   "execution_count": 8,
   "metadata": {},
   "outputs": [],
   "source": [
    "# determine anlaytic function at set points\n",
    "V_space = np.linspace(-0.1, n*a, 150)\n",
    "analytic_dist = analytic_voltage_dist(V_space, a, sig, s, p, n)"
   ]
  },
  {
   "cell_type": "code",
   "execution_count": 9,
   "metadata": {},
   "outputs": [
    {
     "data": {
      "image/png": "[encoded data removed]",
      "text/plain": [
       "<Figure size 576x360 with 1 Axes>"
      ]
     },
     "metadata": {
      "needs_background": "light"
     },
     "output_type": "display_data"
    }
   ],
   "source": [
    "# plot theoretical vs numercial samples\n",
    "plt.plot(V_space, analytic_dist, c='r', label = 'Theoretical')\n",
    "plt.hist(V, bins = 1000, label = 'Numerical Samples', density = True, alpha = 0.8)\n",
    "plt.ylabel(r'$P(V)$')\n",
    "plt.xlabel(r'$V$')\n",
    "plt.legend()\n",
    "plt.show()"
   ]
  },
  {
   "cell_type": "markdown",
   "metadata": {},
   "source": [
    "As we can see from the plot above, the two distributions are closely matched."
   ]
  },
  {
   "cell_type": "markdown",
   "metadata": {},
   "source": [
    "# Question 5\n",
    "\n",
    "Find the number of non-negative integer solutions to:\n",
    "\n",
    "$$\n",
    "x_1 + x_2 + ... + x_{k-1} + x_k = n\n",
    "$$\n",
    "\n",
    "### Answer\n",
    "\n",
    "As each number $x_1, x_2, ..., x_{k-1}, x_k $ are non-negative integers, then we can think of each number being some multiple of one.\n",
    "\n",
    "Thus in this case, for $x_1 + x_2 + ... + x_{k-1} + x_k = n$ we have $n$ ones. Thus if we split the equation into two parts, ones and pluses, we have $n$ ones and $k-1$ pluses we can rearrange to form a solution to $x_1 + x_2 + ... + x_{k-1} + x_k = n$. Thus, we have $n + (k-1)$ indistinguishable objects we can rearrange to solve for $x_1 + x_2 + ... + x_{k-1} + x_k = n$ depending on where we place the $k-1$ plusses with respect to the ones.\n",
    "\n",
    "\n",
    "Thus the total combinations that are possible are:\n",
    "\n",
    "$$\n",
    "\\frac{\\left(n + k - 1\\right)!}{n!\\left(k - 1\\right)!} = \\frac{\\left(n + k - 1\\right)!}{\\left( \\left(n + k - 1\\right)  - \\left(k - 1\\right) \\right)! \\left(k-1\\right)!}  = C^{n + k -1}_{k-1}\n",
    "$$\n",
    "\n",
    "i.e. for n = 3, k = 3, we have the following solutions: (here the * represents ones and | represents pluses)\n",
    "\n",
    "* (1) $\\,$ $ 0|0|*** $\n",
    "* (2) $\\,$ $ *|0|**$\n",
    "* (3) $\\,$ $ **|0|*$\n",
    "* (4) $\\,$ $ ***|0|0 $\n",
    "* (5) $\\,$ $ **|*|0 $\n",
    "* (6) $\\,$ $ *|**|0 $\n",
    "* (7) $\\,$ $ 0|***|0 $\n",
    "* (8) $\\,$ $ 0|**|* $\n",
    "* (9) $\\,$ $ 0|**|* $\n",
    "* (10) $\\,$ $*|*|*$\n",
    "\n",
    "we have 10 combinations, which is the same as $ \\frac{\\left(3 + 3 - 1\\right)!}{3! \\left(3-1\\right)!} = \\frac{6!}{3!2!} = \\frac{5 \\times 4}{2} = 10$\n"
   ]
  },
  {
   "cell_type": "markdown",
   "metadata": {},
   "source": [
    "# Question 6\n",
    "\n",
    "### Answer"
   ]
  },
  {
   "cell_type": "code",
   "execution_count": 10,
   "metadata": {},
   "outputs": [],
   "source": [
    "def chi_square_dist(x, k):\n",
    "    \"\"\"\n",
    "    Outputs the chi square distribution at x for k\n",
    "    degrees of freedom\n",
    "    \n",
    "    :param x : value to evaluate at\n",
    "    :param k : degrees of freedom parameter\n",
    "    \n",
    "    \"\"\"\n",
    "    \n",
    "    # normalisation\n",
    "    factor = 1/(2**(0.5*k) * gamma(0.5*k))\n",
    "    \n",
    "    return factor * x**(0.5*k - 1) * np.exp(-0.5*x)"
   ]
  },
  {
   "cell_type": "code",
   "execution_count": 11,
   "metadata": {},
   "outputs": [],
   "source": [
    "mu = 5 # given mean\n",
    "sigma = 1 # given standard deviation\n",
    "n = 30  # number of points\n",
    "\n",
    "N_samples = 1000 # number of samples\n",
    "\n",
    "# sample means\n",
    "sample_mean = np.array([])\n",
    "# sample variances\n",
    "sample_var = np.array([])\n",
    "\n",
    "for i in range(N_samples):\n",
    "    \n",
    "    # random numbers\n",
    "    X = np.random.normal(mu, sigma, n)\n",
    "    # sample mean\n",
    "    mean = np.sum(X)/n\n",
    "    sample_mean = np.append(sample_mean, mean)\n",
    "    # unbiased sample variance\n",
    "    var = np.sum((X - mean)**2)/(n-1)\n",
    "    sample_var = np.append(sample_var, var)"
   ]
  },
  {
   "cell_type": "markdown",
   "metadata": {},
   "source": [
    "The sample mean for many samples approaches a normal distribution with mean $\\mu$ and variance $\\frac{\\sigma^2}{n}$.\n",
    "\n",
    "i.e\n",
    "\n",
    "$$\n",
    "\\bar{X} \\sim \\mathcal{N}\\left(\\mu, \\frac{\\sigma^2}{n}\\right) \n",
    "$$\n",
    "\n",
    "The distribution of the unbiased sample variance $\\left(s^2_{X} \\right)$ is found to behave per the chi-square distribution.\n",
    "\n",
    "Find that \n",
    "\n",
    "$$\n",
    "\\frac{s^2_{X} \\left(n-1\\right)}{\\sigma^2} \\sim \\chi^2_{n-1}\n",
    "$$\n",
    "\n",
    "Which is the chi-distribution with the number of degrees of freedom equalling $n-1$."
   ]
  },
  {
   "cell_type": "code",
   "execution_count": 12,
   "metadata": {},
   "outputs": [
    {
     "data": {
      "image/png": "[encoded data removed]",
      "text/plain": [
       "<Figure size 864x432 with 2 Axes>"
      ]
     },
     "metadata": {
      "needs_background": "light"
     },
     "output_type": "display_data"
    }
   ],
   "source": [
    "# plot theoretical distributions vs samples\n",
    "f, (ax1, ax2) = plt.subplots(1, 2, figsize=(12,6))\n",
    "\n",
    "# mean theoretical\n",
    "mean_space = np.linspace(sample_mean.min(), sample_mean.max(), 1000)\n",
    "sample_mean_theoretical = normal(x = mean_space, \n",
    "                                 mu = mu, \n",
    "                                 sig = sigma/np.sqrt(n))\n",
    "# variance theoretical\n",
    "var_new = sample_var*(n-1)/sigma**2\n",
    "var_space = np.linspace(var_new.min(), var_new.max(), 1000)\n",
    "sample_var_theoretical = chi_square_dist(x = var_space,\n",
    "                                         k = n-1)\n",
    "# plots\n",
    "ax1.hist(sample_mean, bins=100, density = True, alpha = 0.8, label = 'Samples')\n",
    "ax2.hist(var_new, bins=100, density = True, alpha = 0.8, label = 'Samples')\n",
    "ax1.plot(mean_space, sample_mean_theoretical, c = 'r', label =r'$\\mathcal{N}\\left(\\mu , \\frac{\\sigma^2}{n}\\right)$')\n",
    "ax2.plot(var_space, sample_var_theoretical, c = 'r', label = r'$\\chi^2_{n-1}$')\n",
    "ax1.set_xlabel(r'$\\bar{X}$')\n",
    "ax2.set_xlabel(r'$\\frac{s^2 (n-1)}{\\sigma^2}$')\n",
    "ax1.set_ylabel(r'$P \\left(\\bar{X}\\right)$')\n",
    "ax2.set_ylabel(r'$P\\left(\\frac{s^2 (n-1)}{\\sigma^2}\\right)$')\n",
    "\n",
    "ax1.legend()\n",
    "ax2.legend()\n",
    "\n",
    "\n",
    "plt.show()"
   ]
  },
  {
   "cell_type": "markdown",
   "metadata": {},
   "source": [
    "# Question 7\n",
    "\n",
    "### Answer\n",
    "\n",
    "z statistic:\n",
    "\n",
    "$$\n",
    "z = \\frac{\\bar{X_1} - \\bar{X_2}}{\\sqrt{\\frac{s^2_{X_1}}{n_{X_1}} + \\frac{s^2_{X_2}}{n_{X_2}}}}\n",
    "$$\n",
    "\n",
    "Where $s^2$ is the unbiased sample variance \n",
    "\n",
    "$$\n",
    "s^2_{X} = \\frac{1}{n_X - 1}\\sum_{k=1}^{n}\\left(X_{k} - \\bar{X}\\right)^2\n",
    "$$"
   ]
  },
  {
   "cell_type": "code",
   "execution_count": 13,
   "metadata": {},
   "outputs": [],
   "source": [
    "# class 1 results\n",
    "X_1 = np.array([65, 73, 51, 67, 48, 80, 69, 83, 89, 62,\n",
    "                    71, 67, 64, 78, 85, 49, 80, 60, 51, 70])\n",
    "# class 2 results\n",
    "X_2 = np.array([63, 72, 47, 63, 44, 78, 67, 52, 54, 58,\n",
    "                    68, 65, 63, 77, 62, 46, 78, 56, 49, 65])\n",
    "\n",
    "# sample mean class 1\n",
    "X_bar_1 = np.sum(X_1)/len(X_1)\n",
    "# sample mean class 2\n",
    "X_bar_2 = np.sum(X_2)/len(X_2)\n",
    "\n",
    "# unbiased sample variance class 1\n",
    "sample_var_X_1 = np.sum((X_1 - X_bar_1)**2)/(len(X_1) - 1)\n",
    "# unbiased sample variance class 2\n",
    "sample_var_X_2 = np.sum((X_2 - X_bar_2)**2)/(len(X_2) - 1)"
   ]
  },
  {
   "cell_type": "code",
   "execution_count": 14,
   "metadata": {},
   "outputs": [
    {
     "name": "stdout",
     "output_type": "stream",
     "text": [
      "Z score of the two classes (z_test) = 1.870532964313681\n"
     ]
    }
   ],
   "source": [
    "# numerator of z\n",
    "z_num = (X_bar_1 - X_bar_2)\n",
    "# denominator of z\n",
    "z_denom = np.sqrt(sample_var_X_1/(len(X_1)) + sample_var_X_2/(len(X_2)))\n",
    "\n",
    "# z score\n",
    "z = z_num/z_denom\n",
    "print(f'Z score of the two classes (z_test) = {z}')"
   ]
  },
  {
   "cell_type": "code",
   "execution_count": 15,
   "metadata": {},
   "outputs": [
    {
     "name": "stdout",
     "output_type": "stream",
     "text": [
      "p_value (z test) = 6.193542385007877 %\n"
     ]
    },
    {
     "data": {
      "image/png": "[encoded data removed]",
      "text/plain": [
       "<Figure size 576x360 with 1 Axes>"
      ]
     },
     "metadata": {
      "needs_background": "light"
     },
     "output_type": "display_data"
    }
   ],
   "source": [
    "# find normal dist for mean 0, var 1\n",
    "x_space = np.linspace(-5, 5, 1000)\n",
    "dist = normal(x = x_space, mu = 0, sig = 1)\n",
    "\n",
    "# deduce points which is between -z and z\n",
    "idx_min = np.where(x_space > - z)[0][0]-1\n",
    "idx_max = np.where(x_space > z)[0][0]-1\n",
    "\n",
    "# find area under curve from -z to z\n",
    "area = trapezium(x=x_space[idx_min:idx_max], y=dist[idx_min:idx_max])\n",
    "\n",
    "# find p value from 1 - area \n",
    "p_value = 1-area\n",
    "\n",
    "# confidence level\n",
    "print(f'p_value (z test) = {p_value * 100} %')\n",
    "\n",
    "# plot of interval on normal dist\n",
    "plt.plot(x_space, dist)\n",
    "plt.ylabel(r'$P(z)$')\n",
    "plt.xlabel(r'$z$')\n",
    "plt.xlim(-4, 4)\n",
    "plt.ylim(0, 0.42)\n",
    "plt.axvline(x = -z , c = 'black', ls ='--')\n",
    "plt.axvline(x = z , c = 'black', ls ='--')\n",
    "plt.show()"
   ]
  },
  {
   "cell_type": "markdown",
   "metadata": {},
   "source": [
    "From the found p-value of 6.1 %, we would have significant evidence to reject the null hypothesis at anything above the 6.1 % level (i.e. at the 10 % level).\n",
    "\n",
    "\n",
    "A more appropriate test to use here would be the two-tailed t-test with a t-distribution with degrees of freedom 19 rather than the two-tailed z-test. This is because we only have a relatively small sample size of 20, and thus the samples $X_1$ and $X_2$ may follow a different distribution. Therefore, given the relatively small sample size, a t-test would be preferable."
   ]
  },
  {
   "cell_type": "markdown",
   "metadata": {},
   "source": [
    "# Question 8\n",
    "\n",
    "### Answer\n",
    "\n",
    "### Part i)"
   ]
  },
  {
   "cell_type": "code",
   "execution_count": 16,
   "metadata": {},
   "outputs": [
    {
     "name": "stdout",
     "output_type": "stream",
     "text": [
      "['H' 'H' 'H' 'T' 'T' 'T' 'H' 'H' 'H' 'T' 'H' 'H' 'H' 'H' 'H' 'H' 'T' 'T'\n",
      " 'H' 'H' 'H' 'H' 'H' 'T' 'T' 'T' 'T' 'H' 'T' 'H' 'H' 'H' 'H' 'H' 'T' 'T'\n",
      " 'H' 'H' 'H' 'H' 'T' 'H' 'H' 'H' 'H' 'H' 'T' 'H' 'H' 'T' 'H' 'H' 'T' 'H'\n",
      " 'H' 'T' 'H' 'H' 'H' 'H' 'T' 'H' 'H' 'H' 'H' 'H' 'H' 'T' 'T' 'H' 'H' 'H'\n",
      " 'H' 'H' 'H' 'H' 'T' 'H' 'H' 'T' 'H' 'H' 'H' 'T' 'T' 'H' 'T' 'T' 'H' 'H'\n",
      " 'H' 'H' 'H' 'H' 'H' 'H' 'T' 'H' 'T' 'H']\n"
     ]
    }
   ],
   "source": [
    "# probability of getting heads \n",
    "p = 0.7\n",
    "# number of coin flips\n",
    "flips = 100\n",
    "# outcomes of coin flips\n",
    "outcome = np.array([])\n",
    "\n",
    "for i in range(flips):\n",
    "    # random number between 0 and 1\n",
    "    num = np.random.rand(1)\n",
    "    \n",
    "    if num <= p:\n",
    "        # heads\n",
    "        outcome = np.append(outcome,'H')\n",
    "    else:\n",
    "        # tails\n",
    "        outcome = np.append(outcome, 'T')\n",
    "        \n",
    "print(outcome)"
   ]
  },
  {
   "cell_type": "code",
   "execution_count": 17,
   "metadata": {},
   "outputs": [
    {
     "name": "stdout",
     "output_type": "stream",
     "text": [
      "Number of Heads observed = 71\n",
      "Number of Tails observed = 29\n"
     ]
    }
   ],
   "source": [
    "n_heads = len(np.where(outcome == 'H')[0])\n",
    "n_tails = len(np.where(outcome == 'T')[0])\n",
    "\n",
    "print(f'Number of Heads observed = {n_heads}')\n",
    "print(f'Number of Tails observed = {n_tails}')"
   ]
  },
  {
   "cell_type": "markdown",
   "metadata": {},
   "source": [
    "### Likelihood\n",
    "\n",
    "The Likelihood of this particular observation Data (D) for our given hypothesis $H$ (i.e. a coin defined with some probability $p$ of getting a head), is :\n",
    "\n",
    "$$\n",
    "\\mathcal{L}\\left(p\\right) = \\prod_{i=1}^{n_{flips}} P_{i}(D|p) = p_{h}^{n_{h}} \\,\\, p_{t}^{n_{t}} = p^{n_{h}} \\,\\, (1-p)^{n_{t}}\n",
    "$$\n",
    "\n",
    "where the $h, t$ subscripts represnet heads and tails respectively, making $n_h$ and $n_t$ the number of acheived heads and tails respectively."
   ]
  },
  {
   "cell_type": "code",
   "execution_count": 18,
   "metadata": {},
   "outputs": [
    {
     "name": "stdout",
     "output_type": "stream",
     "text": [
      "Likelihood of output flips = 6.89409443219357e-27\n"
     ]
    }
   ],
   "source": [
    "# likelihood of specific case above\n",
    "\n",
    "likelihood_flips = p**n_heads * (1-p)**n_tails\n",
    "\n",
    "print(f'Likelihood of output flips = {likelihood_flips}')"
   ]
  },
  {
   "cell_type": "code",
   "execution_count": 19,
   "metadata": {},
   "outputs": [
    {
     "data": {
      "image/png": "[encoded data removed]",
      "text/plain": [
       "<Figure size 576x360 with 1 Axes>"
      ]
     },
     "metadata": {
      "needs_background": "light"
     },
     "output_type": "display_data"
    }
   ],
   "source": [
    "p_space = np.linspace(0, 1, 100000, endpoint = True)\n",
    "\n",
    "likelihood = p_space**n_heads * (1-p_space)**n_tails\n",
    "\n",
    "plt.plot(p_space, likelihood, c = 'black', label = 'Likelihood')\n",
    "plt.ylabel(r'$\\mathcal{L}\\left(p\\right)$')\n",
    "plt.xlabel(r'$p$')\n",
    "plt.legend()\n",
    "plt.show()"
   ]
  },
  {
   "cell_type": "markdown",
   "metadata": {},
   "source": [
    "### Posteriors\n",
    "\n",
    "#### Hypothesis 1 : $H_1: P(p) = 1$ (i.e uniform prior)\n",
    "\n",
    "In this case, we have a flat prior; thus, our posterior is \n",
    "\n",
    "$$\n",
    "P(p|D) \\propto \\prod_{i=1}^{n_{flips}} (P_i(D|p)) P(p) = p^{n_{h}} \\,\\, (1-p)^{n_{t}}\n",
    "$$\n",
    "\n",
    "#### Hypothesis 2 : $H_2: P(p) = p(1-p^4)$ \n",
    "\n",
    "In this case, we no longer have a flat prior; thus our posterior is proportional to \n",
    "\n",
    "$$\n",
    "P(p|D) \\propto \\prod_{i=1}^{n_{flips}} (P_i(D|p)) P(p) = p^{n_{h}} \\,\\, (1-p)^{n_{t}} \\,\\, p (1-p^{4})\n",
    "$$\n"
   ]
  },
  {
   "cell_type": "code",
   "execution_count": 20,
   "metadata": {},
   "outputs": [],
   "source": [
    "def norm_dist(x, dist):\n",
    "    \"\"\"\n",
    "    Outputs the normalised distribution \n",
    "    (i.e forces integral to be 1)\n",
    "    \n",
    "    :param x : x domain\n",
    "    :param dist : distribution to normalise\n",
    "    \n",
    "    \"\"\"\n",
    "    # integral normalisation\n",
    "    integral =  trapezium(x = x, y = dist)\n",
    "    return dist/integral"
   ]
  },
  {
   "cell_type": "code",
   "execution_count": 21,
   "metadata": {},
   "outputs": [],
   "source": [
    "# likelihood function\n",
    "likelihood = p_space**n_heads * (1-p_space)**n_tails\n",
    "\n",
    "# unifrom prior\n",
    "prior_1 = np.ones(len(p_space))\n",
    "# alternative prior\n",
    "prior_2 = p_space*(1-p_space**4)\n",
    "\n",
    "# posterior for uniform prior\n",
    "post_1 = norm_dist(x = p_space, dist = likelihood * prior_1) \n",
    "# posterior for non-uniform prior\n",
    "post_2 = norm_dist(x = p_space, dist = likelihood * prior_2) "
   ]
  },
  {
   "cell_type": "code",
   "execution_count": 22,
   "metadata": {},
   "outputs": [
    {
     "data": {
      "image/png": "[encoded data removed]",
      "text/plain": [
       "<Figure size 576x360 with 2 Axes>"
      ]
     },
     "metadata": {
      "needs_background": "light"
     },
     "output_type": "display_data"
    }
   ],
   "source": [
    "# plots of priors and posteriors for Hypothesis 1\n",
    "fig = plt.figure()\n",
    "ax = fig.add_subplot(111)\n",
    "ax.plot(p_space, prior_1, label = r'$P(p) = 1$', c = 'b')\n",
    "ax2 = ax.twinx()\n",
    "ax2.plot(p_space, post_1, label = r'$P(p|D)$', c = 'r')\n",
    "ax.set_xlabel('$p$')\n",
    "ax.set_ylabel('Prior', c  = 'b')\n",
    "ax2.set_ylabel('Posterior', c = 'r')\n",
    "\n",
    "\n",
    "plt.show()"
   ]
  },
  {
   "cell_type": "code",
   "execution_count": 23,
   "metadata": {},
   "outputs": [
    {
     "data": {
      "image/png": "[encoded data removed]",
      "text/plain": [
       "<Figure size 576x360 with 2 Axes>"
      ]
     },
     "metadata": {
      "needs_background": "light"
     },
     "output_type": "display_data"
    }
   ],
   "source": [
    "# plots of priors and posteriors for Hypothesis 2\n",
    "fig = plt.figure()\n",
    "ax = fig.add_subplot(111)\n",
    "ax.plot(p_space, prior_2, label = r'$P(p) = 1$', c = 'b')\n",
    "ax2 = ax.twinx()\n",
    "ax2.plot(p_space, post_2, label = r'$P(p|D)$', c = 'r')\n",
    "ax.set_xlabel('$p$')\n",
    "ax.set_ylabel('Prior', c  = 'b')\n",
    "ax2.set_ylabel('Posterior', c = 'r')\n",
    "\n",
    "\n",
    "plt.show()"
   ]
  },
  {
   "cell_type": "markdown",
   "metadata": {},
   "source": [
    "### Part ii)\n",
    "\n",
    "The Highest Posterior Density Region is the set of most probable values of $\\theta$ that, in total, constitute $100(1-\\alpha) \\%$  of the posterior area.\n",
    "\n",
    "In other words, for a given $\\alpha$, we look for a $k$ that satisfies:\n",
    "\n",
    "$$\n",
    "1-\\alpha = \\int_{\\theta : P\\left(\\theta|D\\right) > k} P\\left(\\theta|D\\right) \\mathrm{d}\\theta\n",
    "$$\n",
    "\n",
    "\n",
    "The aim is thus to find a value of $k$ that satisfies this relation for a given alpha.\n",
    "\n",
    "Numerically, this is done by drawing horizontal lines of various heights ($k$). Finding the region where the posterior value is greater than or $k$, and then estimating the integral. Eventually, when a $k$ value is found to achieve the correct fraction of area, this region's minimum and maximum bounds define the Highest Posterior Density Region."
   ]
  },
  {
   "cell_type": "code",
   "execution_count": 24,
   "metadata": {},
   "outputs": [],
   "source": [
    "def highest_posterior_density(x, posterior, CI = 0.9, n = 1000, y_min = None, y_max = None):\n",
    "    \n",
    "    \"\"\"\n",
    "    Function that determines the highest_posterior_density interval\n",
    "    for a set confidence range CI.\n",
    "    \n",
    "    :param x : x domain\n",
    "    :param posterior : posterior distribution\n",
    "    :param CI : confidence interval (default is 90 %)\n",
    "    :param n : number of horizontal lines to trial\n",
    "    :param y_min : minimum horizontal line height \n",
    "    :param y_max : maximum horizontal line height\n",
    "    \n",
    "    \"\"\"\n",
    "    \n",
    "    # ensure the posterior is normalised (i.e area = 1)\n",
    "    posterior = norm_dist(x = x, dist = posterior)\n",
    "    \n",
    "    # if no min and max value specified, use the posterior range\n",
    "    if y_min == None:\n",
    "        y_min = posterior.min()\n",
    "    if y_max == None:\n",
    "        y_max = posterior.max()\n",
    "        \n",
    "    # horizontal lines to try\n",
    "    k = np.linspace(y_min, y_max, n)\n",
    "    \n",
    "    # find area under posterior between the intersection points of line k\n",
    "    for i in range(len(k)):\n",
    "        # intersections\n",
    "        idx = np.where(posterior > k[i])[0]\n",
    "        # if only one, skip (as this is 0 %)\n",
    "        if len(idx) <=1:\n",
    "            continue\n",
    "        # index of minimum intersection point\n",
    "        idx_min = idx[0] - 1\n",
    "        # index of maximum intersection point\n",
    "        idx_max = idx[-1] + 1\n",
    "        # area under the curve between intersection points\n",
    "        area = trapezium(x = x[idx_min:idx_max], y = posterior[idx_min:idx_max])\n",
    "        \n",
    "        # keep going until condition is determined\n",
    "        if area < CI:\n",
    "            break\n",
    "    \n",
    "    # range\n",
    "    x_min = x[idx_min]\n",
    "    x_max = x[idx_max]\n",
    "    \n",
    "    return x_min, x_max, k[i]"
   ]
  },
  {
   "cell_type": "code",
   "execution_count": 25,
   "metadata": {},
   "outputs": [
    {
     "name": "stdout",
     "output_type": "stream",
     "text": [
      "P_min = 0.6325163251632516\n",
      "P_max = 0.7781877818778188\n"
     ]
    }
   ],
   "source": [
    "# find 90 % CI for posterior example from part 1\n",
    "p_min, p_max, k = highest_posterior_density(p_space, post_2, CI = 0.9, n = 1000, y_min = None, y_max = None)\n",
    "\n",
    "print(f'P_min = {p_min}')\n",
    "print(f'P_max = {p_max}')"
   ]
  },
  {
   "cell_type": "code",
   "execution_count": 26,
   "metadata": {},
   "outputs": [
    {
     "data": {
      "image/png": "[encoded data removed]",
      "text/plain": [
       "<Figure size 576x360 with 1 Axes>"
      ]
     },
     "metadata": {
      "needs_background": "light"
     },
     "output_type": "display_data"
    }
   ],
   "source": [
    "# plot confidence range on posterior\n",
    "plt.plot(p_space, norm_dist(x = p_space, dist = post_2), label = 'Posterior')\n",
    "plt.xlabel(r'$p$')\n",
    "plt.ylabel(r'$P(p|D)$')\n",
    "plt.axvline(p_min, c = 'r', ls = '-')\n",
    "plt.axvline(p_max, c = 'r', ls = '-')\n",
    "plt.axhline(k, c = 'black', ls = '--', label = f'k = {np.round(k, 4)}')\n",
    "plt.xlim(0.4, 1.0)\n",
    "plt.legend()\n",
    "plt.show()"
   ]
  },
  {
   "cell_type": "markdown",
   "metadata": {},
   "source": [
    "# Question 9\n",
    "\n",
    "### Answer\n",
    "\n",
    "\n",
    "The likelihood for n independant draws $\\left(X_1, X_2, ..., X_{n-1}, X_n \\right)$ from an exponential distribution:\n",
    "\n",
    "$$\n",
    "P(\\mathbf{X}|\\lambda)  = \\prod_{j=1}^{n} \\lambda \\text{exp}\\left(-\\lambda X_{j}\\right) = \\lambda^n \\text{exp}\\left(-\\lambda \\sum_{j=1}^{n}X_{j}\\right)\n",
    "$$\n",
    "\n",
    "Have a gamma distributed prior for $\\lambda$, with shape and rate paramter $\\alpha$ and $\\beta$ respectively:\n",
    "\n",
    "$$\n",
    "P(\\lambda) = \\frac{\\beta^{\\alpha}}{\\Gamma(\\alpha)} \\lambda^{\\alpha - 1} \\exp\\left( -\\beta\\lambda\\right)\n",
    "$$\n",
    "\n",
    "The posterior distribution $P(\\lambda|\\mathbf{X})$ is proportional to the product of the likelihood and the prior.\n",
    "\n",
    "Thus,\n",
    "\n",
    "$$\n",
    "P(\\lambda|\\mathbf{X}) \\propto P(\\mathbf{X}|\\lambda) \\, P(\\lambda)\n",
    "$$\n",
    "\n",
    "$$\n",
    "\\rightarrow P(\\lambda|\\mathbf{X}) \\propto \\lambda^n \\text{exp}\\left(-\\lambda \\sum_{j=1}^{n}X_{j}\\right) \\frac{\\beta^{\\alpha}}{\\Gamma(\\alpha)} \\lambda^{\\alpha - 1} \\exp\\left( -\\beta\\lambda\\right)\n",
    "$$\n",
    "\n",
    "$$\n",
    "\\rightarrow P(\\lambda|\\mathbf{X}) \\propto \\frac{\\beta^{\\alpha}}{\\Gamma(\\alpha)} \\lambda^{n + \\alpha - 1} \\text{exp}\\left(-\\lambda \\left( \\sum_{j=1}^{n}X_{j} + \\beta \\right) \\right)\n",
    "$$\n",
    "\n",
    "This shows that the posterior is proportional to a gamma distribution with new shape parameter $\\alpha^{\\prime}$ and rate parameter $\\beta^{\\prime}$, where:\n",
    "\n",
    "$$\n",
    "\\rightarrow \\alpha^\\prime = n + \\alpha\n",
    "$$\n",
    "\n",
    "$$\n",
    "\\rightarrow \\beta^\\prime = \\sum_{j=1}^{n} X_{j} + \\beta\n",
    "$$\n"
   ]
  }
 ],
 "metadata": {
  "kernelspec": {
   "display_name": "Python 3",
   "language": "python",
   "name": "python3"
  },
  "language_info": {
   "codemirror_mode": {
    "name": "ipython",
    "version": 3
   },
   "file_extension": ".py",
   "mimetype": "text/x-python",
   "name": "python",
   "nbconvert_exporter": "python",
   "pygments_lexer": "ipython3",
   "version": "3.8.10"
  }
 },
 "nbformat": 4,
 "nbformat_minor": 4
}
